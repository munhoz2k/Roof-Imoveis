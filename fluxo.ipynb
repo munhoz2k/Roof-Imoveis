{
 "cells": [
  {
   "cell_type": "code",
   "execution_count": 2,
   "metadata": {
    "collapsed": true,
    "pycharm": {
     "name": "#%%\n"
    }
   },
   "outputs": [],
   "source": [
    "import numpy as np\n",
    "import pandas as pd\n",
    "import seaborn as sns\n",
    "import matplotlib.pyplot as plt\n",
    "\n",
    "pd.set_option('float_format', '{:0.3f}'.format)"
   ]
  },
  {
   "cell_type": "code",
   "execution_count": 3,
   "outputs": [],
   "source": [
    "housesDf = pd.read_csv(r'kc_house_data.csv')\n",
    "\n",
    "housesDf['living_price'] = housesDf['price'] / housesDf['sqft_living']\n",
    "housesDf['lot_price'] = housesDf['price'] / housesDf['sqft_lot']"
   ],
   "metadata": {
    "collapsed": false,
    "pycharm": {
     "name": "#%%\n"
    }
   }
  },
  {
   "cell_type": "code",
   "execution_count": 4,
   "outputs": [],
   "source": [
    "housesFiltered = housesDf.filter(['price', 'bedrooms', 'bathrooms', 'floors', 'view', 'condition', 'yr_built', 'living_price', 'lot_price','grade'])"
   ],
   "metadata": {
    "collapsed": false,
    "pycharm": {
     "name": "#%%\n"
    }
   }
  },
  {
   "cell_type": "markdown",
   "source": [],
   "metadata": {
    "collapsed": false,
    "pycharm": {
     "name": "#%% md\n"
    }
   }
  },
  {
   "cell_type": "code",
   "execution_count": 5,
   "outputs": [
    {
     "data": {
      "text/plain": "         price  bedrooms  bathrooms  floors  view  condition  yr_built  \\\n1   142000.000     0.000      0.000   1.000 0.000      1.000  1963.000   \n2          NaN       NaN        NaN     NaN   NaN        NaN       NaN   \n3   205666.667     1.000      0.250   1.000 0.000      3.333  1945.333   \n4   214381.034     1.483      0.905   1.034 0.138      3.103  1939.138   \n5   248523.971     2.388      1.114   1.087 0.136      3.492  1935.455   \n6   301919.637     2.686      1.243   1.109 0.093      3.540  1942.471   \n7   402590.262     3.256      1.829   1.297 0.100      3.491  1963.627   \n8   542852.766     3.480      2.348   1.668 0.247      3.355  1980.400   \n9   773513.186     3.773      2.664   1.849 0.429      3.266  1988.419   \n10 1071771.074     3.907      3.006   1.893 0.654      3.233  1989.570   \n11 1496841.727     4.160      3.502   1.961 1.030      3.195  1992.145   \n12 2191222.000     4.222      3.981   1.950 1.622      3.211  1992.378   \n13 3709615.385     4.846      5.096   1.962 1.846      3.154  1976.615   \n\n    living_price  lot_price  grade  \n1        489.655      6.802  1.000  \n2            NaN        NaN    NaN  \n3        360.818     11.113  3.000  \n4        362.381     26.450  4.000  \n5        278.934     35.438  5.000  \n6        270.992     48.601  6.000  \n7        251.902     71.489  7.000  \n8        258.087    113.892  8.000  \n9        275.767    115.660  9.000  \n10       307.589    107.043 10.000  \n11       342.250    115.635 11.000  \n12       401.854    102.812 12.000  \n13       483.650    157.085 13.000  ",
      "text/html": "<div>\n<style scoped>\n    .dataframe tbody tr th:only-of-type {\n        vertical-align: middle;\n    }\n\n    .dataframe tbody tr th {\n        vertical-align: top;\n    }\n\n    .dataframe thead th {\n        text-align: right;\n    }\n</style>\n<table border=\"1\" class=\"dataframe\">\n  <thead>\n    <tr style=\"text-align: right;\">\n      <th></th>\n      <th>price</th>\n      <th>bedrooms</th>\n      <th>bathrooms</th>\n      <th>floors</th>\n      <th>view</th>\n      <th>condition</th>\n      <th>yr_built</th>\n      <th>living_price</th>\n      <th>lot_price</th>\n      <th>grade</th>\n    </tr>\n  </thead>\n  <tbody>\n    <tr>\n      <th>1</th>\n      <td>142000.000</td>\n      <td>0.000</td>\n      <td>0.000</td>\n      <td>1.000</td>\n      <td>0.000</td>\n      <td>1.000</td>\n      <td>1963.000</td>\n      <td>489.655</td>\n      <td>6.802</td>\n      <td>1.000</td>\n    </tr>\n    <tr>\n      <th>2</th>\n      <td>NaN</td>\n      <td>NaN</td>\n      <td>NaN</td>\n      <td>NaN</td>\n      <td>NaN</td>\n      <td>NaN</td>\n      <td>NaN</td>\n      <td>NaN</td>\n      <td>NaN</td>\n      <td>NaN</td>\n    </tr>\n    <tr>\n      <th>3</th>\n      <td>205666.667</td>\n      <td>1.000</td>\n      <td>0.250</td>\n      <td>1.000</td>\n      <td>0.000</td>\n      <td>3.333</td>\n      <td>1945.333</td>\n      <td>360.818</td>\n      <td>11.113</td>\n      <td>3.000</td>\n    </tr>\n    <tr>\n      <th>4</th>\n      <td>214381.034</td>\n      <td>1.483</td>\n      <td>0.905</td>\n      <td>1.034</td>\n      <td>0.138</td>\n      <td>3.103</td>\n      <td>1939.138</td>\n      <td>362.381</td>\n      <td>26.450</td>\n      <td>4.000</td>\n    </tr>\n    <tr>\n      <th>5</th>\n      <td>248523.971</td>\n      <td>2.388</td>\n      <td>1.114</td>\n      <td>1.087</td>\n      <td>0.136</td>\n      <td>3.492</td>\n      <td>1935.455</td>\n      <td>278.934</td>\n      <td>35.438</td>\n      <td>5.000</td>\n    </tr>\n    <tr>\n      <th>6</th>\n      <td>301919.637</td>\n      <td>2.686</td>\n      <td>1.243</td>\n      <td>1.109</td>\n      <td>0.093</td>\n      <td>3.540</td>\n      <td>1942.471</td>\n      <td>270.992</td>\n      <td>48.601</td>\n      <td>6.000</td>\n    </tr>\n    <tr>\n      <th>7</th>\n      <td>402590.262</td>\n      <td>3.256</td>\n      <td>1.829</td>\n      <td>1.297</td>\n      <td>0.100</td>\n      <td>3.491</td>\n      <td>1963.627</td>\n      <td>251.902</td>\n      <td>71.489</td>\n      <td>7.000</td>\n    </tr>\n    <tr>\n      <th>8</th>\n      <td>542852.766</td>\n      <td>3.480</td>\n      <td>2.348</td>\n      <td>1.668</td>\n      <td>0.247</td>\n      <td>3.355</td>\n      <td>1980.400</td>\n      <td>258.087</td>\n      <td>113.892</td>\n      <td>8.000</td>\n    </tr>\n    <tr>\n      <th>9</th>\n      <td>773513.186</td>\n      <td>3.773</td>\n      <td>2.664</td>\n      <td>1.849</td>\n      <td>0.429</td>\n      <td>3.266</td>\n      <td>1988.419</td>\n      <td>275.767</td>\n      <td>115.660</td>\n      <td>9.000</td>\n    </tr>\n    <tr>\n      <th>10</th>\n      <td>1071771.074</td>\n      <td>3.907</td>\n      <td>3.006</td>\n      <td>1.893</td>\n      <td>0.654</td>\n      <td>3.233</td>\n      <td>1989.570</td>\n      <td>307.589</td>\n      <td>107.043</td>\n      <td>10.000</td>\n    </tr>\n    <tr>\n      <th>11</th>\n      <td>1496841.727</td>\n      <td>4.160</td>\n      <td>3.502</td>\n      <td>1.961</td>\n      <td>1.030</td>\n      <td>3.195</td>\n      <td>1992.145</td>\n      <td>342.250</td>\n      <td>115.635</td>\n      <td>11.000</td>\n    </tr>\n    <tr>\n      <th>12</th>\n      <td>2191222.000</td>\n      <td>4.222</td>\n      <td>3.981</td>\n      <td>1.950</td>\n      <td>1.622</td>\n      <td>3.211</td>\n      <td>1992.378</td>\n      <td>401.854</td>\n      <td>102.812</td>\n      <td>12.000</td>\n    </tr>\n    <tr>\n      <th>13</th>\n      <td>3709615.385</td>\n      <td>4.846</td>\n      <td>5.096</td>\n      <td>1.962</td>\n      <td>1.846</td>\n      <td>3.154</td>\n      <td>1976.615</td>\n      <td>483.650</td>\n      <td>157.085</td>\n      <td>13.000</td>\n    </tr>\n  </tbody>\n</table>\n</div>"
     },
     "execution_count": 5,
     "metadata": {},
     "output_type": "execute_result"
    }
   ],
   "source": [
    "housesGrades = housesFiltered['grade']\n",
    "meansByGradeDf = pd.DataFrame()\n",
    "\n",
    "for i in range(housesGrades.min(), housesGrades.max() + 1):\n",
    "    meansByGradeDf[f'{i}'] = housesFiltered[housesDf['grade'] == i].mean(numeric_only=True)\n",
    "\n",
    "meansByGradeDf = meansByGradeDf.T\n",
    "meansByGradeDf"
   ],
   "metadata": {
    "collapsed": false,
    "pycharm": {
     "name": "#%%\n"
    }
   }
  },
  {
   "cell_type": "code",
   "execution_count": 6,
   "outputs": [
    {
     "data": {
      "text/plain": "                      price  bedrooms  bathrooms  floors  view  condition  \\\nmean_grade_hi_7 1630969.356     4.065      3.433   1.880 0.971      3.236   \nstd              367127.196     0.930      0.770   0.540 0.766      0.651   \ncorr_with_grade       0.667     0.357      0.665   0.458 0.251     -0.145   \n\n                 yr_built  living_price  lot_price  grade  \nmean_grade_hi_7  1986.588       344.866    118.688 10.500  \nstd                29.373       110.061     94.055  1.175  \ncorr_with_grade     0.447         0.123      0.218  1.000  ",
      "text/html": "<div>\n<style scoped>\n    .dataframe tbody tr th:only-of-type {\n        vertical-align: middle;\n    }\n\n    .dataframe tbody tr th {\n        vertical-align: top;\n    }\n\n    .dataframe thead th {\n        text-align: right;\n    }\n</style>\n<table border=\"1\" class=\"dataframe\">\n  <thead>\n    <tr style=\"text-align: right;\">\n      <th></th>\n      <th>price</th>\n      <th>bedrooms</th>\n      <th>bathrooms</th>\n      <th>floors</th>\n      <th>view</th>\n      <th>condition</th>\n      <th>yr_built</th>\n      <th>living_price</th>\n      <th>lot_price</th>\n      <th>grade</th>\n    </tr>\n  </thead>\n  <tbody>\n    <tr>\n      <th>mean_grade_hi_7</th>\n      <td>1630969.356</td>\n      <td>4.065</td>\n      <td>3.433</td>\n      <td>1.880</td>\n      <td>0.971</td>\n      <td>3.236</td>\n      <td>1986.588</td>\n      <td>344.866</td>\n      <td>118.688</td>\n      <td>10.500</td>\n    </tr>\n    <tr>\n      <th>std</th>\n      <td>367127.196</td>\n      <td>0.930</td>\n      <td>0.770</td>\n      <td>0.540</td>\n      <td>0.766</td>\n      <td>0.651</td>\n      <td>29.373</td>\n      <td>110.061</td>\n      <td>94.055</td>\n      <td>1.175</td>\n    </tr>\n    <tr>\n      <th>corr_with_grade</th>\n      <td>0.667</td>\n      <td>0.357</td>\n      <td>0.665</td>\n      <td>0.458</td>\n      <td>0.251</td>\n      <td>-0.145</td>\n      <td>0.447</td>\n      <td>0.123</td>\n      <td>0.218</td>\n      <td>1.000</td>\n    </tr>\n  </tbody>\n</table>\n</div>"
     },
     "execution_count": 6,
     "metadata": {},
     "output_type": "execute_result"
    }
   ],
   "source": [
    "mainMeans = pd.DataFrame()\n",
    "housesGradesMean = np.mean(housesGrades)\n",
    "\n",
    "mainMeans['mean_grade_hi_7'] = meansByGradeDf[meansByGradeDf['grade'] >= housesGradesMean].mean()\n",
    "mainMeans['std'] = housesFiltered.std(ddof=1)\n",
    "mainMeans['corr_with_grade'] = housesFiltered.corr()['grade']\n",
    "\n",
    "mainMeans.drop('grade', axis=0)\n",
    "\n",
    "mainMeans = mainMeans.T\n",
    "mainMeans"
   ],
   "metadata": {
    "collapsed": false,
    "pycharm": {
     "name": "#%%\n"
    }
   }
  },
  {
   "cell_type": "markdown",
   "source": [
    "#\n",
    "## Filtrando pelas casas acima das métricas comuns"
   ],
   "metadata": {
    "collapsed": false,
    "pycharm": {
     "name": "#%% md\n"
    }
   }
  },
  {
   "cell_type": "code",
   "execution_count": 7,
   "outputs": [
    {
     "data": {
      "text/plain": "               id             date       price  bedrooms  bathrooms  \\\n7280    922059169  20141201T000000  800000.000         6      4.250   \n11685  1126069045  20140620T000000 1135000.000         6      4.250   \n13403   524069020  20150422T000000 1050000.000         4      4.000   \n9603   1926069192  20140509T000000 1157200.000         4      4.250   \n270    4054500390  20141007T000000 1365000.000         4      4.750   \n\n       sqft_living  sqft_lot  floors  waterfront  view  ...  sqft_basement  \\\n7280          5480    189050   2.000           0     0  ...            340   \n11685         6900    244716   2.000           0     0  ...           2080   \n13403         4550     54013   1.000           0     1  ...           2250   \n9603          5860     52889   2.000           0     0  ...            950   \n270           5310     57346   2.000           0     0  ...              0   \n\n       yr_built  yr_renovated  zipcode    lat     long  sqft_living15  \\\n7280       1991             0    98031 47.412 -122.168           2470   \n11685      2002             0    98077 47.751 -122.012           4170   \n13403      1989             0    98075 47.596 -122.077           3540   \n9603       1996             0    98072 47.724 -122.095           3320   \n270        1989             0    98077 47.728 -122.042           4180   \n\n       sqft_lot15  living_price  lot_price  \n7280        10429       145.985      4.232  \n11685      266587       164.493      4.638  \n13403       39634       230.769     19.440  \n9603        39066       197.474     21.880  \n270         47443       257.062     23.803  \n\n[5 rows x 23 columns]",
      "text/html": "<div>\n<style scoped>\n    .dataframe tbody tr th:only-of-type {\n        vertical-align: middle;\n    }\n\n    .dataframe tbody tr th {\n        vertical-align: top;\n    }\n\n    .dataframe thead th {\n        text-align: right;\n    }\n</style>\n<table border=\"1\" class=\"dataframe\">\n  <thead>\n    <tr style=\"text-align: right;\">\n      <th></th>\n      <th>id</th>\n      <th>date</th>\n      <th>price</th>\n      <th>bedrooms</th>\n      <th>bathrooms</th>\n      <th>sqft_living</th>\n      <th>sqft_lot</th>\n      <th>floors</th>\n      <th>waterfront</th>\n      <th>view</th>\n      <th>...</th>\n      <th>sqft_basement</th>\n      <th>yr_built</th>\n      <th>yr_renovated</th>\n      <th>zipcode</th>\n      <th>lat</th>\n      <th>long</th>\n      <th>sqft_living15</th>\n      <th>sqft_lot15</th>\n      <th>living_price</th>\n      <th>lot_price</th>\n    </tr>\n  </thead>\n  <tbody>\n    <tr>\n      <th>7280</th>\n      <td>922059169</td>\n      <td>20141201T000000</td>\n      <td>800000.000</td>\n      <td>6</td>\n      <td>4.250</td>\n      <td>5480</td>\n      <td>189050</td>\n      <td>2.000</td>\n      <td>0</td>\n      <td>0</td>\n      <td>...</td>\n      <td>340</td>\n      <td>1991</td>\n      <td>0</td>\n      <td>98031</td>\n      <td>47.412</td>\n      <td>-122.168</td>\n      <td>2470</td>\n      <td>10429</td>\n      <td>145.985</td>\n      <td>4.232</td>\n    </tr>\n    <tr>\n      <th>11685</th>\n      <td>1126069045</td>\n      <td>20140620T000000</td>\n      <td>1135000.000</td>\n      <td>6</td>\n      <td>4.250</td>\n      <td>6900</td>\n      <td>244716</td>\n      <td>2.000</td>\n      <td>0</td>\n      <td>0</td>\n      <td>...</td>\n      <td>2080</td>\n      <td>2002</td>\n      <td>0</td>\n      <td>98077</td>\n      <td>47.751</td>\n      <td>-122.012</td>\n      <td>4170</td>\n      <td>266587</td>\n      <td>164.493</td>\n      <td>4.638</td>\n    </tr>\n    <tr>\n      <th>13403</th>\n      <td>524069020</td>\n      <td>20150422T000000</td>\n      <td>1050000.000</td>\n      <td>4</td>\n      <td>4.000</td>\n      <td>4550</td>\n      <td>54013</td>\n      <td>1.000</td>\n      <td>0</td>\n      <td>1</td>\n      <td>...</td>\n      <td>2250</td>\n      <td>1989</td>\n      <td>0</td>\n      <td>98075</td>\n      <td>47.596</td>\n      <td>-122.077</td>\n      <td>3540</td>\n      <td>39634</td>\n      <td>230.769</td>\n      <td>19.440</td>\n    </tr>\n    <tr>\n      <th>9603</th>\n      <td>1926069192</td>\n      <td>20140509T000000</td>\n      <td>1157200.000</td>\n      <td>4</td>\n      <td>4.250</td>\n      <td>5860</td>\n      <td>52889</td>\n      <td>2.000</td>\n      <td>0</td>\n      <td>0</td>\n      <td>...</td>\n      <td>950</td>\n      <td>1996</td>\n      <td>0</td>\n      <td>98072</td>\n      <td>47.724</td>\n      <td>-122.095</td>\n      <td>3320</td>\n      <td>39066</td>\n      <td>197.474</td>\n      <td>21.880</td>\n    </tr>\n    <tr>\n      <th>270</th>\n      <td>4054500390</td>\n      <td>20141007T000000</td>\n      <td>1365000.000</td>\n      <td>4</td>\n      <td>4.750</td>\n      <td>5310</td>\n      <td>57346</td>\n      <td>2.000</td>\n      <td>0</td>\n      <td>0</td>\n      <td>...</td>\n      <td>0</td>\n      <td>1989</td>\n      <td>0</td>\n      <td>98077</td>\n      <td>47.728</td>\n      <td>-122.042</td>\n      <td>4180</td>\n      <td>47443</td>\n      <td>257.062</td>\n      <td>23.803</td>\n    </tr>\n  </tbody>\n</table>\n<p>5 rows × 23 columns</p>\n</div>"
     },
     "execution_count": 7,
     "metadata": {},
     "output_type": "execute_result"
    }
   ],
   "source": [
    "housesDf[\n",
    "    (housesDf['price'] < (mainMeans['price']['mean_grade_hi_7'])) &\n",
    "    (housesDf['bedrooms'] >= round(mainMeans['bedrooms']['mean_grade_hi_7'] - mainMeans['bedrooms']['std'])) &\n",
    "    (housesDf['bathrooms'] >= round(mainMeans['bathrooms']['mean_grade_hi_7'] + mainMeans['bathrooms']['std'])) &\n",
    "    (housesDf['condition'] >= round(mainMeans['condition']['mean_grade_hi_7'] + mainMeans['condition']['std'])) &\n",
    "    (housesDf['yr_built'] >= round(mainMeans['yr_built']['mean_grade_hi_7']))\n",
    "].sort_values(['lot_price'], ascending=True).head()"
   ],
   "metadata": {
    "collapsed": false,
    "pycharm": {
     "name": "#%%\n"
    }
   }
  }
 ],
 "metadata": {
  "kernelspec": {
   "display_name": "Python 3",
   "language": "python",
   "name": "python3"
  },
  "language_info": {
   "codemirror_mode": {
    "name": "ipython",
    "version": 2
   },
   "file_extension": ".py",
   "mimetype": "text/x-python",
   "name": "python",
   "nbconvert_exporter": "python",
   "pygments_lexer": "ipython2",
   "version": "2.7.6"
  }
 },
 "nbformat": 4,
 "nbformat_minor": 0
}